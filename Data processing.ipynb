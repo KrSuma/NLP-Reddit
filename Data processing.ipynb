{
 "cells": [
  {
   "cell_type": "code",
   "execution_count": 109,
   "metadata": {},
   "outputs": [],
   "source": [
    "# Import needed libs\n",
    "import pandas as pd\n",
    "import numpy as np\n",
    "from nltk.tokenize import word_tokenize\n",
    "from nltk import pos_tag\n",
    "from nltk.corpus import stopwords\n",
    "from nltk.stem import WordNetLemmatizer\n",
    "from sklearn.preprocessing import LabelEncoder\n",
    "from collections import defaultdict\n",
    "from nltk.corpus import wordnet as wn\n",
    "from sklearn.feature_extraction.text import TfidfVectorizer\n",
    "from sklearn import model_selection, naive_bayes, svm\n",
    "from sklearn.metrics import accuracy_score"
   ]
  },
  {
   "cell_type": "code",
   "execution_count": 138,
   "metadata": {},
   "outputs": [],
   "source": [
    "#     Lower -> Tokenize -> Lemmatize -> Remove stop words and non-alpha\n",
    "#     Returns cleaned sentence\n",
    "def clean_text(entry):\n",
    "    #     Create tag map for use by the pos tagger\n",
    "    tag_map = defaultdict(lambda : wn.NOUN)\n",
    "    tag_map['J'] = wn.ADJ\n",
    "    tag_map['V'] = wn.VERB\n",
    "    tag_map['R'] = wn.ADV\n",
    "\n",
    "    entry = entry.lower()\n",
    "    entry = word_tokenize(entry)\n",
    "    final = []\n",
    "    lemmatizer = WordNetLemmatizer()\n",
    "    for word, tag in pos_tag(entry):\n",
    "        if word not in stopwords.words('english') and word.isalpha():\n",
    "            word_final = lemmatizer.lemmatize(word,tag_map[tag[0]])\n",
    "            final.append(word_final)\n",
    "    return str(final)\n",
    "\n",
    "# Takes all rows from df['body'], cleans them and adds the to the new column df['text']\n",
    "def preprocess(df):\n",
    "#     Clean body text and store all cleaned text in new df['text'] column\n",
    "    text = []\n",
    "    for index,entry in enumerate(df['body']):\n",
    "        final = clean_text(entry)\n",
    "        text.append(final)\n",
    "\n",
    "    df['text'] = pd.Series(text)\n",
    "    return df"
   ]
  },
  {
   "cell_type": "code",
   "execution_count": 129,
   "metadata": {},
   "outputs": [],
   "source": [
    "# Loads labeled csv data into a pandas dataframe\n",
    "def load_data(cleaned = False):\n",
    "    if cleaned:\n",
    "        return pd.read_csv('data/cleaned_data.csv', encoding=\"ISO-8859-1\")\n",
    "    return preprocess( pd.read_csv('data/labeled_data.csv', encoding=\"ISO-8859-1\") )"
   ]
  },
  {
   "cell_type": "code",
   "execution_count": 132,
   "metadata": {},
   "outputs": [],
   "source": [
    "# Trains an SVM model on the df['text'] column, prints accuracy and returns the SVM model and tf idf vectorizer\n",
    "def train(df):\n",
    "#     Separate into train/test\n",
    "    train_x, test_x, train_y, test_y = model_selection.train_test_split(df['text'],df['class'],test_size=0.2)\n",
    "\n",
    "#     Encode class labels\n",
    "    encoder = LabelEncoder()\n",
    "    train_y = encoder.fit_transform(train_y)\n",
    "    test_y = encoder.fit_transform(test_y)\n",
    "    \n",
    "#     Convert x to tf idf\n",
    "    tfidf = TfidfVectorizer(max_features=4000)\n",
    "    tfidf.fit(df['text'])\n",
    "    train_x_tfidf = tfidf.transform(train_x)\n",
    "    test_x_tfidf = tfidf.transform(test_x)\n",
    "\n",
    "#     Train SVM model\n",
    "    SVM = svm.SVC(kernel='linear')\n",
    "    SVM.fit(train_x_tfidf,train_y)\n",
    "\n",
    "#     Use model to predict on test set\n",
    "    predict_SVM = SVM.predict(test_x_tfidf)\n",
    "\n",
    "#     Calculate accuracy\n",
    "    print(\"SVM Accuracy Score -> \",accuracy_score(predict_SVM, test_y)*100)\n",
    "    return SVM, tfidf"
   ]
  },
  {
   "cell_type": "code",
   "execution_count": 146,
   "metadata": {},
   "outputs": [],
   "source": [
    "# Takes a model, a tf idf vectorizer and a text string\n",
    "# Returns predicted label (from original [-1,0,1] classification)\n",
    "def classify(model, tfidf, text):\n",
    "    text = clean_text(text)\n",
    "    x = tfidf.transform([text])\n",
    "    y = model.predict(x)\n",
    "    return y - 1 # original labels are 1 off from those returned by the model"
   ]
  },
  {
   "cell_type": "code",
   "execution_count": 148,
   "metadata": {},
   "outputs": [],
   "source": [
    "# ==== Example usage ===="
   ]
  },
  {
   "cell_type": "code",
   "execution_count": 136,
   "metadata": {},
   "outputs": [
    {
     "name": "stdout",
     "output_type": "stream",
     "text": [
      "SVM Accuracy Score ->  88.33333333333333\n"
     ]
    }
   ],
   "source": [
    "# Load data -> Train SVM model\n",
    "df = load_data(cleaned=True)\n",
    "model, tfidf = train(df)"
   ]
  },
  {
   "cell_type": "code",
   "execution_count": 162,
   "metadata": {},
   "outputs": [
    {
     "name": "stdout",
     "output_type": "stream",
     "text": [
      "trans people are not people : [-1]\n",
      "cats are cute : [0]\n",
      "trans people are awesome : [1]\n"
     ]
    }
   ],
   "source": [
    "bad = 'trans people are not people'\n",
    "label = classify(model, tfidf, bad)\n",
    "print(bad, \":\", label)\n",
    "\n",
    "neutral = 'cats are cute'\n",
    "label = classify(model, tfidf, neutral)\n",
    "print(neutral,\":\", label)\n",
    "\n",
    "pos = 'trans people are awesome'\n",
    "label = classify(model, tfidf, pos)\n",
    "print(pos,\":\", label)"
   ]
  },
  {
   "cell_type": "code",
   "execution_count": 167,
   "metadata": {},
   "outputs": [
    {
     "name": "stdout",
     "output_type": "stream",
     "text": [
      "trans people suck : [1]\n",
      "trans women are women : [-1]\n",
      "trans men are men : [1]\n"
     ]
    }
   ],
   "source": [
    "wrong = 'trans people suck'\n",
    "label = classify(model, tfidf, wrong)\n",
    "print(wrong,\":\", label)\n",
    "\n",
    "wrong1 = 'trans women are women'\n",
    "label = classify(model, tfidf, wrong1)\n",
    "print(wrong1,\":\", label)\n",
    "\n",
    "funny = 'trans men are men'\n",
    "label = classify(model, tfidf, funny)\n",
    "print(funny,\":\", label)"
   ]
  }
 ],
 "metadata": {
  "kernelspec": {
   "display_name": "Python 3",
   "language": "python",
   "name": "python3"
  },
  "language_info": {
   "codemirror_mode": {
    "name": "ipython",
    "version": 3
   },
   "file_extension": ".py",
   "mimetype": "text/x-python",
   "name": "python",
   "nbconvert_exporter": "python",
   "pygments_lexer": "ipython3",
   "version": "3.7.0"
  }
 },
 "nbformat": 4,
 "nbformat_minor": 2
}