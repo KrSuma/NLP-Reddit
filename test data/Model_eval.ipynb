{
 "cells": [
  {
   "cell_type": "code",
   "execution_count": 2,
   "metadata": {},
   "outputs": [],
   "source": [
    "import pandas as pd\n",
    "import numpy as np\n",
    "from nltk.tokenize import word_tokenize\n",
    "from nltk import pos_tag\n",
    "from nltk.corpus import stopwords\n",
    "from nltk.stem import WordNetLemmatizer\n",
    "from sklearn.preprocessing import LabelEncoder\n",
    "from collections import defaultdict\n",
    "from nltk.corpus import wordnet as wn\n",
    "from sklearn.feature_extraction.text import TfidfVectorizer\n",
    "from sklearn import model_selection, naive_bayes, svm\n",
    "from sklearn.metrics import accuracy_score, confusion_matrix,classification_report\n",
    "import pickle\n",
    "import warnings\n",
    "warnings.simplefilter('ignore')"
   ]
  },
  {
   "cell_type": "code",
   "execution_count": 3,
   "metadata": {},
   "outputs": [],
   "source": [
    "# Takes all rows from df['body'], cleans them and adds the to the new column df['text']\n",
    "def preprocess(df):\n",
    "#   Clean body text and store all cleaned text in new df['text'] column\n",
    "    text = []\n",
    "    for index,entry in enumerate(df['body']):\n",
    "        final = clean_text(entry)\n",
    "        text.append(final)\n",
    "\n",
    "    df['text'] = pd.Series(text)\n",
    "    return df\n",
    "\n",
    "# Lower -> Tokenize -> Lemmatize -> Remove stop words and non-alpha\n",
    "# Returns cleaned sentence\n",
    "def clean_text(entry):\n",
    "    #     Create tag map for use by the pos tagger\n",
    "    tag_map = defaultdict(lambda : wn.NOUN)\n",
    "    tag_map['J'] = wn.ADJ\n",
    "    tag_map['V'] = wn.VERB\n",
    "    tag_map['R'] = wn.ADV\n",
    "\n",
    "    entry = entry.lower()\n",
    "    entry = word_tokenize(entry)\n",
    "    final = []\n",
    "    lemmatizer = WordNetLemmatizer()\n",
    "    for word, tag in pos_tag(entry):\n",
    "        if word not in stopwords.words('english') and word.isalpha():\n",
    "            word_final = lemmatizer.lemmatize(word,tag_map[tag[0]])\n",
    "            final.append(word_final)\n",
    "    return str(final)\n",
    "\n",
    "def load(name):\n",
    "    with open(name, 'rb') as f:\n",
    "        item = pickle.load(f)\n",
    "    return item\n",
    "\n",
    "def predict(test_data):\n",
    "    test_data = preprocess(test_data)\n",
    "    model = load('../svm_model')\n",
    "    tfidf = load('../tfidf')\n",
    "\n",
    "    x = tfidf.transform(test_data['text'])\n",
    "    y = model.predict(x)\n",
    "    return y - 1"
   ]
  },
  {
   "cell_type": "markdown",
   "metadata": {},
   "source": [
    "### Load test data"
   ]
  },
  {
   "cell_type": "code",
   "execution_count": 4,
   "metadata": {
    "scrolled": true
   },
   "outputs": [
    {
     "data": {
      "text/html": [
       "<div>\n",
       "<style scoped>\n",
       "    .dataframe tbody tr th:only-of-type {\n",
       "        vertical-align: middle;\n",
       "    }\n",
       "\n",
       "    .dataframe tbody tr th {\n",
       "        vertical-align: top;\n",
       "    }\n",
       "\n",
       "    .dataframe thead th {\n",
       "        text-align: right;\n",
       "    }\n",
       "</style>\n",
       "<table border=\"1\" class=\"dataframe\">\n",
       "  <thead>\n",
       "    <tr style=\"text-align: right;\">\n",
       "      <th></th>\n",
       "      <th>body</th>\n",
       "      <th>class</th>\n",
       "    </tr>\n",
       "  </thead>\n",
       "  <tbody>\n",
       "    <tr>\n",
       "      <th>1</th>\n",
       "      <td>Fucking trans people.</td>\n",
       "      <td>-1</td>\n",
       "    </tr>\n",
       "    <tr>\n",
       "      <th>6</th>\n",
       "      <td>Trans women are men, but men who date them are...</td>\n",
       "      <td>-1</td>\n",
       "    </tr>\n",
       "    <tr>\n",
       "      <th>36</th>\n",
       "      <td>The waves were crashing on the shore; it was a...</td>\n",
       "      <td>0</td>\n",
       "    </tr>\n",
       "    <tr>\n",
       "      <th>43</th>\n",
       "      <td>Sometimes it is better to just walk away from ...</td>\n",
       "      <td>0</td>\n",
       "    </tr>\n",
       "    <tr>\n",
       "      <th>0</th>\n",
       "      <td>Just because you feel like a women [sic] doesn...</td>\n",
       "      <td>-1</td>\n",
       "    </tr>\n",
       "    <tr>\n",
       "      <th>19</th>\n",
       "      <td>Trans person is a good person</td>\n",
       "      <td>1</td>\n",
       "    </tr>\n",
       "    <tr>\n",
       "      <th>40</th>\n",
       "      <td>The clock within this blog and the clock on my...</td>\n",
       "      <td>0</td>\n",
       "    </tr>\n",
       "    <tr>\n",
       "      <th>48</th>\n",
       "      <td>I often see the time 11:11 or 12:34 on clocks.</td>\n",
       "      <td>0</td>\n",
       "    </tr>\n",
       "    <tr>\n",
       "      <th>30</th>\n",
       "      <td>Last Friday in three weekâs time I saw a spo...</td>\n",
       "      <td>0</td>\n",
       "    </tr>\n",
       "    <tr>\n",
       "      <th>11</th>\n",
       "      <td>You [trans people] are kidding yourselves if y...</td>\n",
       "      <td>-1</td>\n",
       "    </tr>\n",
       "  </tbody>\n",
       "</table>\n",
       "</div>"
      ],
      "text/plain": [
       "                                                 body  class\n",
       "1                               Fucking trans people.     -1\n",
       "6   Trans women are men, but men who date them are...     -1\n",
       "36  The waves were crashing on the shore; it was a...      0\n",
       "43  Sometimes it is better to just walk away from ...      0\n",
       "0   Just because you feel like a women [sic] doesn...     -1\n",
       "19                      Trans person is a good person      1\n",
       "40  The clock within this blog and the clock on my...      0\n",
       "48     I often see the time 11:11 or 12:34 on clocks.      0\n",
       "30  Last Friday in three weekâs time I saw a spo...      0\n",
       "11  You [trans people] are kidding yourselves if y...     -1"
      ]
     },
     "execution_count": 4,
     "metadata": {},
     "output_type": "execute_result"
    }
   ],
   "source": [
    "test_data = pd.read_csv('test_sentences.csv', encoding=\"ISO-8859-1\")\n",
    "test_data.sample(10)"
   ]
  },
  {
   "cell_type": "code",
   "execution_count": 7,
   "metadata": {},
   "outputs": [
    {
     "data": {
      "text/plain": [
       " 0    30\n",
       " 1    15\n",
       "-1    15\n",
       "Name: class, dtype: int64"
      ]
     },
     "execution_count": 7,
     "metadata": {},
     "output_type": "execute_result"
    }
   ],
   "source": [
    "test_data['class'].value_counts()"
   ]
  },
  {
   "cell_type": "markdown",
   "metadata": {},
   "source": [
    "## Predict"
   ]
  },
  {
   "cell_type": "code",
   "execution_count": 134,
   "metadata": {},
   "outputs": [],
   "source": [
    "predicted = predict(test_data)\n",
    "target = test_data['class']\n"
   ]
  },
  {
   "cell_type": "markdown",
   "metadata": {},
   "source": [
    "### Model performance"
   ]
  },
  {
   "cell_type": "code",
   "execution_count": 135,
   "metadata": {},
   "outputs": [
    {
     "data": {
      "text/plain": [
       "0.8666666666666667"
      ]
     },
     "execution_count": 135,
     "metadata": {},
     "output_type": "execute_result"
    }
   ],
   "source": [
    "accuracy_score(predicted, target)"
   ]
  },
  {
   "cell_type": "code",
   "execution_count": 139,
   "metadata": {},
   "outputs": [
    {
     "name": "stdout",
     "output_type": "stream",
     "text": [
      "              precision    recall  f1-score   support\n",
      "\n",
      "          -1       0.47      1.00      0.64         7\n",
      "           0       1.00      0.86      0.92        35\n",
      "           1       1.00      0.83      0.91        18\n",
      "\n",
      "   micro avg       0.87      0.87      0.87        60\n",
      "   macro avg       0.82      0.90      0.82        60\n",
      "weighted avg       0.94      0.87      0.89        60\n",
      "\n"
     ]
    }
   ],
   "source": [
    "print(classification_report(predicted, target))"
   ]
  }
 ],
 "metadata": {
  "kernelspec": {
   "display_name": "Python 3",
   "language": "python",
   "name": "python3"
  },
  "language_info": {
   "codemirror_mode": {
    "name": "ipython",
    "version": 3
   },
   "file_extension": ".py",
   "mimetype": "text/x-python",
   "name": "python",
   "nbconvert_exporter": "python",
   "pygments_lexer": "ipython3",
   "version": "3.7.0"
  }
 },
 "nbformat": 4,
 "nbformat_minor": 2
}
