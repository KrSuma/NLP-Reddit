{
 "cells": [
  {
   "cell_type": "code",
   "execution_count": 1,
   "metadata": {},
   "outputs": [],
   "source": [
    "import pandas as pd"
   ]
  },
  {
   "cell_type": "code",
   "execution_count": 3,
   "metadata": {},
   "outputs": [],
   "source": [
    "# Load labeled sets\n",
    "sisi_data = pd.read_csv('sisi_labeled_data.csv', encoding=\"ISO-8859-1\")\n",
    "jb_data = pd.read_csv('jb_labelled_data.csv', encoding=\"ISO-8859-1\")\n",
    "# Note: there was no need to upload a labeled data set as all the entries retained a class of 0 (default)\n",
    "marin_data = pd.read_csv('marin_unlabeled_data.csv', encoding=\"ISO-8859-1\")"
   ]
  },
  {
   "cell_type": "code",
   "execution_count": 4,
   "metadata": {},
   "outputs": [],
   "source": [
    "# Concat sets into full data set\n",
    "frames = [sisi_data, marin_data, jb_data]\n",
    "full_data = pd.concat(frames)"
   ]
  },
  {
   "cell_type": "code",
   "execution_count": 5,
   "metadata": {},
   "outputs": [
    {
     "data": {
      "text/html": [
       "<div>\n",
       "<style>\n",
       "    .dataframe thead tr:only-child th {\n",
       "        text-align: right;\n",
       "    }\n",
       "\n",
       "    .dataframe thead th {\n",
       "        text-align: left;\n",
       "    }\n",
       "\n",
       "    .dataframe tbody tr th {\n",
       "        vertical-align: top;\n",
       "    }\n",
       "</style>\n",
       "<table border=\"1\" class=\"dataframe\">\n",
       "  <thead>\n",
       "    <tr style=\"text-align: right;\">\n",
       "      <th></th>\n",
       "      <th>Unnamed: 0</th>\n",
       "      <th>body</th>\n",
       "      <th>class</th>\n",
       "      <th>date</th>\n",
       "      <th>id</th>\n",
       "      <th>score</th>\n",
       "      <th>subreddit</th>\n",
       "    </tr>\n",
       "  </thead>\n",
       "  <tbody>\n",
       "    <tr>\n",
       "      <th>0</th>\n",
       "      <td>1000</td>\n",
       "      <td>Lauterbrunnen, Swiss Alps.</td>\n",
       "      <td>0</td>\n",
       "      <td>1.556300e+09</td>\n",
       "      <td>bhp18v</td>\n",
       "      <td>356</td>\n",
       "      <td>MGTOW</td>\n",
       "    </tr>\n",
       "    <tr>\n",
       "      <th>1</th>\n",
       "      <td>1001</td>\n",
       "      <td>This domestic abuse billboard acknowledges tha...</td>\n",
       "      <td>0</td>\n",
       "      <td>1.556335e+09</td>\n",
       "      <td>bhuwn3</td>\n",
       "      <td>1553</td>\n",
       "      <td>MGTOW</td>\n",
       "    </tr>\n",
       "    <tr>\n",
       "      <th>2</th>\n",
       "      <td>1002</td>\n",
       "      <td>Hypergamist thot's confession.</td>\n",
       "      <td>0</td>\n",
       "      <td>1.556324e+09</td>\n",
       "      <td>bht9sd</td>\n",
       "      <td>1002</td>\n",
       "      <td>MGTOW</td>\n",
       "    </tr>\n",
       "    <tr>\n",
       "      <th>3</th>\n",
       "      <td>1003</td>\n",
       "      <td>Before MGTOW (2018) | After MGTOW (2019)</td>\n",
       "      <td>0</td>\n",
       "      <td>1.556334e+09</td>\n",
       "      <td>bhutic</td>\n",
       "      <td>436</td>\n",
       "      <td>MGTOW</td>\n",
       "    </tr>\n",
       "    <tr>\n",
       "      <th>4</th>\n",
       "      <td>1004</td>\n",
       "      <td>About what we expected</td>\n",
       "      <td>0</td>\n",
       "      <td>1.556360e+09</td>\n",
       "      <td>bhxotx</td>\n",
       "      <td>114</td>\n",
       "      <td>MGTOW</td>\n",
       "    </tr>\n",
       "  </tbody>\n",
       "</table>\n",
       "</div>"
      ],
      "text/plain": [
       "   Unnamed: 0                                               body  class  \\\n",
       "0        1000                         Lauterbrunnen, Swiss Alps.      0   \n",
       "1        1001  This domestic abuse billboard acknowledges tha...      0   \n",
       "2        1002                     Hypergamist thot's confession.      0   \n",
       "3        1003           Before MGTOW (2018) | After MGTOW (2019)      0   \n",
       "4        1004                             About what we expected      0   \n",
       "\n",
       "           date      id  score subreddit  \n",
       "0  1.556300e+09  bhp18v    356     MGTOW  \n",
       "1  1.556335e+09  bhuwn3   1553     MGTOW  \n",
       "2  1.556324e+09  bht9sd   1002     MGTOW  \n",
       "3  1.556334e+09  bhutic    436     MGTOW  \n",
       "4  1.556360e+09  bhxotx    114     MGTOW  "
      ]
     },
     "execution_count": 5,
     "metadata": {},
     "output_type": "execute_result"
    }
   ],
   "source": [
    "full_data.head()"
   ]
  },
  {
   "cell_type": "code",
   "execution_count": 7,
   "metadata": {},
   "outputs": [
    {
     "data": {
      "text/plain": [
       " 0    2237\n",
       " 1     574\n",
       "-1     189\n",
       "Name: class, dtype: int64"
      ]
     },
     "execution_count": 7,
     "metadata": {},
     "output_type": "execute_result"
    }
   ],
   "source": [
    "full_data['class'].value_counts()"
   ]
  },
  {
   "cell_type": "code",
   "execution_count": null,
   "metadata": {},
   "outputs": [],
   "source": [
    "# Save full data set\n",
    "full_data.to_csv('labeled_data.csv')"
   ]
  }
 ],
 "metadata": {
  "kernelspec": {
   "display_name": "Python 3",
   "language": "python",
   "name": "python3"
  },
  "language_info": {
   "codemirror_mode": {
    "name": "ipython",
    "version": 3
   },
   "file_extension": ".py",
   "mimetype": "text/x-python",
   "name": "python",
   "nbconvert_exporter": "python",
   "pygments_lexer": "ipython3",
   "version": "3.7.0"
  }
 },
 "nbformat": 4,
 "nbformat_minor": 2
}
