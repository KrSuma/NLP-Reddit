{
 "cells": [
  {
   "cell_type": "code",
   "execution_count": 1,
   "metadata": {},
   "outputs": [],
   "source": [
    "import pandas as pd"
   ]
  },
  {
   "cell_type": "code",
   "execution_count": 2,
   "metadata": {},
   "outputs": [],
   "source": [
    "csv_path = 'reddit_posts.csv'\n",
    "data = pd.read_csv(csv_path,encoding = \"ISO-8859-1\")"
   ]
  },
  {
   "cell_type": "code",
   "execution_count": 3,
   "metadata": {},
   "outputs": [
    {
     "data": {
      "text/html": [
       "<div>\n",
       "<style>\n",
       "    .dataframe thead tr:only-child th {\n",
       "        text-align: right;\n",
       "    }\n",
       "\n",
       "    .dataframe thead th {\n",
       "        text-align: left;\n",
       "    }\n",
       "\n",
       "    .dataframe tbody tr th {\n",
       "        vertical-align: top;\n",
       "    }\n",
       "</style>\n",
       "<table border=\"1\" class=\"dataframe\">\n",
       "  <thead>\n",
       "    <tr style=\"text-align: right;\">\n",
       "      <th></th>\n",
       "      <th>body</th>\n",
       "      <th>class</th>\n",
       "      <th>date</th>\n",
       "      <th>id</th>\n",
       "      <th>score</th>\n",
       "      <th>subreddit</th>\n",
       "    </tr>\n",
       "  </thead>\n",
       "  <tbody>\n",
       "    <tr>\n",
       "      <th>0</th>\n",
       "      <td>A day or two ago a post popped up by a girl cl...</td>\n",
       "      <td>0</td>\n",
       "      <td>1.534876e+09</td>\n",
       "      <td>995no4</td>\n",
       "      <td>4289</td>\n",
       "      <td>offmychest</td>\n",
       "    </tr>\n",
       "    <tr>\n",
       "      <th>1</th>\n",
       "      <td>I hate my job, Im a telemarketer. I hate call...</td>\n",
       "      <td>0</td>\n",
       "      <td>1.556339e+09</td>\n",
       "      <td>bhvjea</td>\n",
       "      <td>2921</td>\n",
       "      <td>offmychest</td>\n",
       "    </tr>\n",
       "    <tr>\n",
       "      <th>2</th>\n",
       "      <td>So my step-son has gone through some shit. His...</td>\n",
       "      <td>0</td>\n",
       "      <td>1.556284e+09</td>\n",
       "      <td>bhm09j</td>\n",
       "      <td>4579</td>\n",
       "      <td>offmychest</td>\n",
       "    </tr>\n",
       "    <tr>\n",
       "      <th>3</th>\n",
       "      <td>After years of waking up to tweak for endless ...</td>\n",
       "      <td>0</td>\n",
       "      <td>1.556327e+09</td>\n",
       "      <td>bhtw9n</td>\n",
       "      <td>267</td>\n",
       "      <td>offmychest</td>\n",
       "    </tr>\n",
       "    <tr>\n",
       "      <th>4</th>\n",
       "      <td>Thought internet people would be glad to hear ...</td>\n",
       "      <td>0</td>\n",
       "      <td>1.556340e+09</td>\n",
       "      <td>bhvnce</td>\n",
       "      <td>115</td>\n",
       "      <td>offmychest</td>\n",
       "    </tr>\n",
       "  </tbody>\n",
       "</table>\n",
       "</div>"
      ],
      "text/plain": [
       "                                                body  class          date  \\\n",
       "0  A day or two ago a post popped up by a girl cl...      0  1.534876e+09   \n",
       "1  I hate my job, Im a telemarketer. I hate call...      0  1.556339e+09   \n",
       "2  So my step-son has gone through some shit. His...      0  1.556284e+09   \n",
       "3  After years of waking up to tweak for endless ...      0  1.556327e+09   \n",
       "4  Thought internet people would be glad to hear ...      0  1.556340e+09   \n",
       "\n",
       "       id  score   subreddit  \n",
       "0  995no4   4289  offmychest  \n",
       "1  bhvjea   2921  offmychest  \n",
       "2  bhm09j   4579  offmychest  \n",
       "3  bhtw9n    267  offmychest  \n",
       "4  bhvnce    115  offmychest  "
      ]
     },
     "execution_count": 3,
     "metadata": {},
     "output_type": "execute_result"
    }
   ],
   "source": [
    "data.head()"
   ]
  },
  {
   "cell_type": "code",
   "execution_count": 4,
   "metadata": {},
   "outputs": [
    {
     "data": {
      "text/plain": [
       "offmychest              500\n",
       "GenderCritical          500\n",
       "genderqueer             500\n",
       "Showerthoughts          500\n",
       "MGTOW                   500\n",
       "traaaaaaannnnnnnnnns    500\n",
       "Name: subreddit, dtype: int64"
      ]
     },
     "execution_count": 4,
     "metadata": {},
     "output_type": "execute_result"
    }
   ],
   "source": [
    "data['subreddit'].value_counts()"
   ]
  },
  {
   "cell_type": "code",
   "execution_count": 5,
   "metadata": {},
   "outputs": [
    {
     "data": {
      "text/plain": [
       "(3000, 6)"
      ]
     },
     "execution_count": 5,
     "metadata": {},
     "output_type": "execute_result"
    }
   ],
   "source": [
    "data.shape"
   ]
  },
  {
   "cell_type": "code",
   "execution_count": 6,
   "metadata": {},
   "outputs": [],
   "source": [
    "for_jb = data.loc[data['subreddit'].isin(['traaaaaaannnnnnnnnns','genderqueer'])]"
   ]
  },
  {
   "cell_type": "code",
   "execution_count": 7,
   "metadata": {},
   "outputs": [],
   "source": [
    "for_sisi = data.loc[data['subreddit'].isin(['MGTOW','GenderCritical'])]"
   ]
  },
  {
   "cell_type": "code",
   "execution_count": 8,
   "metadata": {},
   "outputs": [],
   "source": [
    "for_marin = data.loc[data['subreddit'].isin(['offmychest','Showerthoughts'])]"
   ]
  },
  {
   "cell_type": "code",
   "execution_count": 9,
   "metadata": {},
   "outputs": [],
   "source": [
    "for_jb.to_csv('./jb_unlabeled_data.csv')\n",
    "for_sisi.to_csv('./sisi_unlabeled_data.csv')\n",
    "for_marin.to_csv('./marin_unlabeled_data.csv')"
   ]
  }
 ],
 "metadata": {
  "kernelspec": {
   "display_name": "Python 3",
   "language": "python",
   "name": "python3"
  },
  "language_info": {
   "codemirror_mode": {
    "name": "ipython",
    "version": 3
   },
   "file_extension": ".py",
   "mimetype": "text/x-python",
   "name": "python",
   "nbconvert_exporter": "python",
   "pygments_lexer": "ipython3",
   "version": "3.6.7"
  }
 },
 "nbformat": 4,
 "nbformat_minor": 2
}
